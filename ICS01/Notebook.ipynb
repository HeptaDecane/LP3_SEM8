{
 "cells": [
  {
   "cell_type": "code",
   "execution_count": 1,
   "id": "cc28d1dd",
   "metadata": {},
   "outputs": [],
   "source": [
    "import numpy as np"
   ]
  },
  {
   "cell_type": "code",
   "execution_count": 2,
   "id": "5e7ad2bd",
   "metadata": {},
   "outputs": [],
   "source": [
    "# constants\n",
    "\n",
    "P10 = [3, 5, 2, 7, 4, 10, 1, 9, 8, 6 ];\n",
    "P8 =  [6, 3, 7, 4, 8, 5, 10, 9];\n",
    "\n",
    "IP = [2, 6, 3, 1, 4, 8, 5, 7];\n",
    "IP_INV = [4, 1, 3, 5, 7, 2, 8, 6];\n",
    "EP = [4, 1, 2, 3, 2, 3, 4, 1];\n",
    "P4 = [2, 4, 3, 1]\n",
    "\n",
    "S0 = [ \n",
    "    [ 1, 0, 3, 2 ],\n",
    "    [ 3, 2, 1, 0 ],\n",
    "    [ 0, 2, 1, 3 ],\n",
    "    [ 3, 1, 3, 2 ] \n",
    "]\n",
    "\n",
    "S1 = [ \n",
    "    [ 0, 1, 2, 3 ],\n",
    "    [ 2, 0, 1, 3 ],\n",
    "    [ 3, 0, 1, 0 ],\n",
    "    [ 2, 1, 0, 3 ] \n",
    "]"
   ]
  },
  {
   "cell_type": "code",
   "execution_count": 3,
   "id": "c2bb63e9",
   "metadata": {},
   "outputs": [],
   "source": [
    "def permute(data, p):\n",
    "    data = np.array(data)\n",
    "    p = [i-1 for i in p]\n",
    "    return list(data[p])"
   ]
  },
  {
   "cell_type": "code",
   "execution_count": 4,
   "id": "cd3e2275",
   "metadata": {},
   "outputs": [],
   "source": [
    "def left_shift(data, bits):\n",
    "    return list(np.roll(data, -bits))"
   ]
  },
  {
   "cell_type": "code",
   "execution_count": 5,
   "id": "ba987c7e",
   "metadata": {},
   "outputs": [],
   "source": [
    "def generate_keys(key):\n",
    "    p10 = permute(key, P10)\n",
    "    lb = p10[:5]\n",
    "    rb = p10[5:]\n",
    "    \n",
    "    lb1 = left_shift(lb, 1)\n",
    "    rb1 = left_shift(rb, 1)\n",
    "    key1 = permute(lb1+rb1, P8)\n",
    "    \n",
    "    lb12 = left_shift(lb1, 2)\n",
    "    rb12 = left_shift(rb1, 2)\n",
    "    key2 = permute(lb12+rb12, P8)\n",
    "    \n",
    "    return key1, key2"
   ]
  },
  {
   "cell_type": "code",
   "execution_count": 6,
   "id": "7c19aa1f",
   "metadata": {},
   "outputs": [],
   "source": [
    "binary = {\n",
    "    0: [0,0],\n",
    "    1: [0,1],\n",
    "    2: [1,0],\n",
    "    3: [1,1],\n",
    "}\n",
    "\n",
    "def substitute(bits, box):\n",
    "    r = 2*bits[0] + bits[3]\n",
    "    c = 2*bits[1] + bits[2]\n",
    "    d = box[r][c]\n",
    "    return binary[d]"
   ]
  },
  {
   "cell_type": "code",
   "execution_count": 7,
   "id": "0a2d5301",
   "metadata": {},
   "outputs": [],
   "source": [
    "def swap(lb, rb):\n",
    "    return rb, lb"
   ]
  },
  {
   "cell_type": "code",
   "execution_count": 8,
   "id": "e0bb9eca",
   "metadata": {},
   "outputs": [],
   "source": [
    "def xor(a, b):\n",
    "    a = np.array(a)\n",
    "    b = np.array(b)\n",
    "    return list(a^b)"
   ]
  },
  {
   "cell_type": "code",
   "execution_count": 9,
   "id": "29f5df53",
   "metadata": {},
   "outputs": [],
   "source": [
    "def fk(data, key):\n",
    "    lb = data[:4]\n",
    "    rb = data[4:]\n",
    "    \n",
    "    r_exp = permute(rb, EP)\n",
    "    r_xor = xor(r_exp, key)\n",
    "    \n",
    "    lb1 = r_xor[:4]\n",
    "    rb1 = r_xor[4:]\n",
    "    \n",
    "    s0 = substitute(lb1, S0)\n",
    "    s1 = substitute(rb1, S1)\n",
    "    \n",
    "    p4 = permute(s0+s1, P4)\n",
    "    \n",
    "    lb_new = xor(lb, p4)\n",
    "    \n",
    "    return lb_new, rb"
   ]
  },
  {
   "cell_type": "code",
   "execution_count": 10,
   "id": "16ce6887",
   "metadata": {},
   "outputs": [],
   "source": [
    "def encrypt(data, key1, key2):\n",
    "    p_init = permute(data, IP)\n",
    "    lb1, rb1 = fk(p_init, key1)\n",
    "    lb2, rb2 = swap(lb1, rb1)\n",
    "    lb3, rb3 = fk(lb2+rb2, key2)\n",
    "    p_inv = permute(lb3+rb3, IP_INV)\n",
    "    return p_inv"
   ]
  },
  {
   "cell_type": "code",
   "execution_count": 11,
   "id": "a80c313a",
   "metadata": {},
   "outputs": [],
   "source": [
    "def decrypt(data, key1, key2):\n",
    "    p_init = permute(data, IP)\n",
    "    lb1, rb1 = fk(p_init, key2)\n",
    "    lb2, rb2 = swap(lb1, rb1)\n",
    "    lb3, rb3 = fk(lb2+rb2, key1)\n",
    "    p_inv = permute(lb3+rb3, IP_INV)\n",
    "    return p_inv"
   ]
  },
  {
   "cell_type": "markdown",
   "id": "c55f1387",
   "metadata": {},
   "source": [
    "<hr/>"
   ]
  },
  {
   "cell_type": "code",
   "execution_count": 12,
   "id": "6ce53803",
   "metadata": {},
   "outputs": [
    {
     "name": "stdout",
     "output_type": "stream",
     "text": [
      "10 bit key: 1010000010\n",
      "key: [1, 0, 1, 0, 0, 0, 0, 0, 1, 0]\n"
     ]
    }
   ],
   "source": [
    "# 1010000010\n",
    "key = input(\"10 bit key: \")\n",
    "key = [int(bit) for bit in key]\n",
    "print('key:', key)"
   ]
  },
  {
   "cell_type": "code",
   "execution_count": 13,
   "id": "116b4913",
   "metadata": {},
   "outputs": [
    {
     "name": "stdout",
     "output_type": "stream",
     "text": [
      "8 bit message: 10010111\n",
      "message: [1, 0, 0, 1, 0, 1, 1, 1]\n"
     ]
    }
   ],
   "source": [
    "# 10010111\n",
    "message = input(\"8 bit message: \")\n",
    "message = [int(bit) for bit in message]\n",
    "print('message:', message)"
   ]
  },
  {
   "cell_type": "code",
   "execution_count": 14,
   "id": "eae74fe5",
   "metadata": {},
   "outputs": [
    {
     "name": "stdout",
     "output_type": "stream",
     "text": [
      "key 1: [1, 0, 1, 0, 0, 1, 0, 0]\n",
      "key 2: [0, 1, 0, 0, 0, 0, 1, 1]\n"
     ]
    }
   ],
   "source": [
    "key1, key2 = generate_keys(key)\n",
    "print('key 1:', key1)\n",
    "print('key 2:', key2)"
   ]
  },
  {
   "cell_type": "code",
   "execution_count": 15,
   "id": "06116176",
   "metadata": {},
   "outputs": [
    {
     "name": "stdout",
     "output_type": "stream",
     "text": [
      "cipher: [0, 0, 1, 1, 1, 0, 0, 0]\n"
     ]
    }
   ],
   "source": [
    "cipher = encrypt(message, key1, key2)\n",
    "print('cipher:', cipher)"
   ]
  },
  {
   "cell_type": "code",
   "execution_count": 16,
   "id": "9fde8a01",
   "metadata": {},
   "outputs": [
    {
     "name": "stdout",
     "output_type": "stream",
     "text": [
      "message: [1, 0, 0, 1, 0, 1, 1, 1]\n"
     ]
    }
   ],
   "source": [
    "message = decrypt(cipher, key1, key2)\n",
    "print('message:', message)"
   ]
  }
 ],
 "metadata": {
  "kernelspec": {
   "display_name": "Python [conda env:analytics] *",
   "language": "python",
   "name": "conda-env-analytics-py"
  },
  "language_info": {
   "codemirror_mode": {
    "name": "ipython",
    "version": 3
   },
   "file_extension": ".py",
   "mimetype": "text/x-python",
   "name": "python",
   "nbconvert_exporter": "python",
   "pygments_lexer": "ipython3",
   "version": "3.8.8"
  }
 },
 "nbformat": 4,
 "nbformat_minor": 5
}
