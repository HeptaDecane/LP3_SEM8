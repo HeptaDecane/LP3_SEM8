{
 "cells": [
  {
   "cell_type": "code",
   "execution_count": 21,
   "metadata": {},
   "outputs": [],
   "source": [
    "import pandas as pd\n",
    "import numpy as np\n",
    "import matplotlib.pyplot as plt\n",
    "import math\n",
    "from sklearn.cluster import KMeans\n",
    "\n",
    "points = pd.read_csv(\"Kmeans.csv\")"
   ]
  },
  {
   "cell_type": "code",
   "execution_count": 22,
   "metadata": {
    "scrolled": true
   },
   "outputs": [
    {
     "data": {
      "text/html": [
       "<div>\n",
       "<style scoped>\n",
       "    .dataframe tbody tr th:only-of-type {\n",
       "        vertical-align: middle;\n",
       "    }\n",
       "\n",
       "    .dataframe tbody tr th {\n",
       "        vertical-align: top;\n",
       "    }\n",
       "\n",
       "    .dataframe thead th {\n",
       "        text-align: right;\n",
       "    }\n",
       "</style>\n",
       "<table border=\"1\" class=\"dataframe\">\n",
       "  <thead>\n",
       "    <tr style=\"text-align: right;\">\n",
       "      <th></th>\n",
       "      <th>x</th>\n",
       "      <th>y</th>\n",
       "    </tr>\n",
       "  </thead>\n",
       "  <tbody>\n",
       "    <tr>\n",
       "      <th>0</th>\n",
       "      <td>0.10</td>\n",
       "      <td>0.60</td>\n",
       "    </tr>\n",
       "    <tr>\n",
       "      <th>1</th>\n",
       "      <td>0.15</td>\n",
       "      <td>0.71</td>\n",
       "    </tr>\n",
       "    <tr>\n",
       "      <th>2</th>\n",
       "      <td>0.08</td>\n",
       "      <td>0.90</td>\n",
       "    </tr>\n",
       "    <tr>\n",
       "      <th>3</th>\n",
       "      <td>0.16</td>\n",
       "      <td>0.85</td>\n",
       "    </tr>\n",
       "    <tr>\n",
       "      <th>4</th>\n",
       "      <td>0.20</td>\n",
       "      <td>0.30</td>\n",
       "    </tr>\n",
       "    <tr>\n",
       "      <th>5</th>\n",
       "      <td>0.25</td>\n",
       "      <td>0.50</td>\n",
       "    </tr>\n",
       "    <tr>\n",
       "      <th>6</th>\n",
       "      <td>0.24</td>\n",
       "      <td>0.10</td>\n",
       "    </tr>\n",
       "    <tr>\n",
       "      <th>7</th>\n",
       "      <td>0.30</td>\n",
       "      <td>0.20</td>\n",
       "    </tr>\n",
       "  </tbody>\n",
       "</table>\n",
       "</div>"
      ],
      "text/plain": [
       "      x     y\n",
       "0  0.10  0.60\n",
       "1  0.15  0.71\n",
       "2  0.08  0.90\n",
       "3  0.16  0.85\n",
       "4  0.20  0.30\n",
       "5  0.25  0.50\n",
       "6  0.24  0.10\n",
       "7  0.30  0.20"
      ]
     },
     "execution_count": 22,
     "metadata": {},
     "output_type": "execute_result"
    }
   ],
   "source": [
    "points"
   ]
  },
  {
   "cell_type": "code",
   "execution_count": 23,
   "metadata": {},
   "outputs": [],
   "source": [
    "X = np.array(points)"
   ]
  },
  {
   "cell_type": "markdown",
   "metadata": {},
   "source": [
    "K-Means Clustering Implementation"
   ]
  },
  {
   "cell_type": "code",
   "execution_count": 24,
   "metadata": {},
   "outputs": [],
   "source": [
    "def dist(A,B):\n",
    "    xd=(A[0]-B[0])**2\n",
    "    yd=(A[1]-B[1])**2\n",
    "    d=math.sqrt(xd+yd)\n",
    "    return d"
   ]
  },
  {
   "cell_type": "code",
   "execution_count": 25,
   "metadata": {},
   "outputs": [],
   "source": [
    "def cluster(C1,C2):\n",
    "    cluster1=list()\n",
    "    cluster2=list()\n",
    "    c1=C1\n",
    "    c2=C2\n",
    "    for p in X:\n",
    "        d1=dist(p,C1)\n",
    "        d2=dist(p,C2)\n",
    "        if d1<d2:\n",
    "          cluster1.append(p.tolist())\n",
    "        else:\n",
    "          cluster2.append(p.tolist())\n",
    "\n",
    "    x1=0\n",
    "    y1=0\n",
    "    for i in cluster1:\n",
    "        x1=x1+i[0]\n",
    "        y1=y1+i[1]\n",
    "    x1=x1/len(cluster1)\n",
    "    y1=y1/len(cluster1)\n",
    "\n",
    "    centroid1=[x1,y1]\n",
    "\n",
    "    x2=0\n",
    "    y2=0\n",
    "    for i in cluster2:\n",
    "        x2=x2+i[0]\n",
    "        y2=y2+i[1]\n",
    "    x2=x2/len(cluster2)\n",
    "    y2=y2/len(cluster2)\n",
    "\n",
    "    centroid2=[x2,y2]\n",
    "\n",
    "    C1=centroid1\n",
    "    C2=centroid2\n",
    "\n",
    "    if centroid1[0]==c1[0] and centroid2[0]==c2[0] and centroid1[1]==c1[1] and centroid2[1]==c2[1]:\n",
    "        print(\"Clusters are:\")\n",
    "        print(cluster1)\n",
    "        print(cluster2)\n",
    "        if [0.25,0.5] in cluster1:\n",
    "          print(\"P6 belongs to cluster 1\")\n",
    "        elif [0.25,0.5] in cluster2:\n",
    "          print(\"P6 belongs to cluster 2\")\n",
    "        print(\"Population of cluster around m2:\",len(cluster2))\n",
    "        print(\"Updated value of centroids:\")\n",
    "        print(\"C1:\",C1)\n",
    "        print(\"C2:\",C2)\n",
    "        P=list()\n",
    "        for i in X:\n",
    "          if i.tolist() in cluster1:\n",
    "            P.append(0)\n",
    "          else:\n",
    "            P.append(1)\n",
    "\n",
    "        # Generate scatter plot for training data\n",
    "        colors = list(map(lambda x: 'blue' if x == 1 else 'red', P))\n",
    "        plt.scatter(X[:,0], X[:,1], c=colors, marker=\"o\")\n",
    "        plt.title('Two clusters of data')\n",
    "        plt.show()\n",
    "    else:\n",
    "        cluster(C1,C2)"
   ]
  },
  {
   "cell_type": "code",
   "execution_count": 26,
   "metadata": {},
   "outputs": [
    {
     "data": {
      "image/png": "[encoded data removed]",
      "text/plain": [
       "<Figure size 432x288 with 1 Axes>"
      ]
     },
     "metadata": {
      "needs_background": "light"
     },
     "output_type": "display_data"
    },
    {
     "name": "stdout",
     "output_type": "stream",
     "text": [
      "Points are:\n",
      " [[0.1  0.6 ]\n",
      " [0.15 0.71]\n",
      " [0.08 0.9 ]\n",
      " [0.16 0.85]\n",
      " [0.2  0.3 ]\n",
      " [0.25 0.5 ]\n",
      " [0.24 0.1 ]\n",
      " [0.3  0.2 ]]\n",
      "Clusters are:\n",
      "[[0.1, 0.6], [0.15, 0.71], [0.08, 0.9], [0.16, 0.85], [0.25, 0.5]]\n",
      "[[0.2, 0.3], [0.24, 0.1], [0.3, 0.2]]\n",
      "P6 belongs to cluster 1\n",
      "Population of cluster around m2: 3\n",
      "Updated value of centroids:\n",
      "C1: [0.148, 0.712]\n",
      "C2: [0.24666666666666667, 0.20000000000000004]\n"
     ]
    },
    {
     "data": {
      "image/png": "[encoded data removed]",
      "text/plain": [
       "<Figure size 432x288 with 1 Axes>"
      ]
     },
     "metadata": {
      "needs_background": "light"
     },
     "output_type": "display_data"
    }
   ],
   "source": [
    "plt.scatter(X[:,0], X[:,1], marker=\"o\")\n",
    "plt.title('Data Points')\n",
    "plt.show()\n",
    "# print(X[0],X[7])\n",
    "C1=X[0]\n",
    "C2=X[7]\n",
    "print(\"Points are:\\n\",X)\n",
    "cluster(C1,C2)"
   ]
  },
  {
   "cell_type": "markdown",
   "metadata": {},
   "source": [
    "K-Means Clustering using Scikit-Learn"
   ]
  },
  {
   "cell_type": "code",
   "execution_count": 27,
   "metadata": {},
   "outputs": [],
   "source": [
    "initial_centriods = np.array([\n",
    "    [0.1,0.6],\n",
    "    [0.3,0.2]\n",
    "],np.float64)"
   ]
  },
  {
   "cell_type": "code",
   "execution_count": 28,
   "metadata": {},
   "outputs": [
    {
     "data": {
      "text/plain": [
       "array([[0.1, 0.6],\n",
       "       [0.3, 0.2]])"
      ]
     },
     "execution_count": 28,
     "metadata": {},
     "output_type": "execute_result"
    }
   ],
   "source": [
    "initial_centriods"
   ]
  },
  {
   "cell_type": "code",
   "execution_count": 31,
   "metadata": {},
   "outputs": [
    {
     "data": {
      "text/plain": [
       "KMeans(init=array([[0.1, 0.6],\n",
       "       [0.3, 0.2]]), n_clusters=2, n_init=1)"
      ]
     },
     "execution_count": 31,
     "metadata": {},
     "output_type": "execute_result"
    }
   ],
   "source": [
    "km = KMeans(n_clusters=2,init=initial_centriods,n_init=1)\n",
    "km.fit(points)\n",
    "# y_pred = km.predict(X)\n",
    "# print(y_pred)"
   ]
  },
  {
   "cell_type": "code",
   "execution_count": 32,
   "metadata": {},
   "outputs": [
    {
     "name": "stdout",
     "output_type": "stream",
     "text": [
      "[0 0 0 0 1 0 1 1]\n"
     ]
    }
   ],
   "source": [
    "print(km.labels_)"
   ]
  },
  {
   "cell_type": "markdown",
   "metadata": {},
   "source": [
    "Which cluster does P6 belong to?"
   ]
  },
  {
   "cell_type": "code",
   "execution_count": 33,
   "metadata": {
    "scrolled": true
   },
   "outputs": [
    {
     "name": "stdout",
     "output_type": "stream",
     "text": [
      "P6 belongs to cluster 1\n"
     ]
    }
   ],
   "source": [
    "cluster_index = km.labels_[5]                        #array is 0 indexed, so P6 will be present at 5th index\n",
    "print(\"P6 belongs to cluster {}\".format(cluster_index+1))"
   ]
  },
  {
   "cell_type": "markdown",
   "metadata": {},
   "source": [
    "What is the population of cluster around m2?"
   ]
  },
  {
   "cell_type": "code",
   "execution_count": 34,
   "metadata": {},
   "outputs": [
    {
     "name": "stdout",
     "output_type": "stream",
     "text": [
      "Population of Cluster around M2 is 3\n"
     ]
    }
   ],
   "source": [
    "count=0\n",
    "for i in km.labels_:\n",
    "    if i == 1:                              # \"1\" represents 2nd(M2) cluster\n",
    "        count+=1\n",
    "print(\"Population of Cluster around M2 is {}\".format(count))        "
   ]
  },
  {
   "cell_type": "markdown",
   "metadata": {},
   "source": [
    "What is updated value of m1 and m2?"
   ]
  },
  {
   "cell_type": "code",
   "execution_count": 35,
   "metadata": {},
   "outputs": [
    {
     "name": "stdout",
     "output_type": "stream",
     "text": [
      "Updated values of M1 and M2 are [0.148 0.712] and [0.24666667 0.2       ] respectively\n"
     ]
    }
   ],
   "source": [
    "print(\"Updated values of M1 and M2 are {} and {} respectively\".format(km.cluster_centers_[0],km.cluster_centers_[1]))"
   ]
  },
  {
   "cell_type": "code",
   "execution_count": 36,
   "metadata": {},
   "outputs": [
    {
     "data": {
      "image/png": "[encoded data removed]",
      "text/plain": [
       "<Figure size 432x288 with 1 Axes>"
      ]
     },
     "metadata": {
      "needs_background": "light"
     },
     "output_type": "display_data"
    }
   ],
   "source": [
    "colors = list(map(lambda x: 'blue' if x == 1 else 'red', km.labels_))\n",
    "plt.scatter(X[:,0], X[:,1], c=colors, marker=\"o\")\n",
    "plt.title('Two clusters of data')\n",
    "plt.show()"
   ]
  },
  {
   "cell_type": "code",
   "execution_count": null,
   "metadata": {},
   "outputs": [],
   "source": []
  }
 ],
 "metadata": {
  "kernelspec": {
   "display_name": "Python 3",
   "language": "python",
   "name": "python3"
  },
  "language_info": {
   "codemirror_mode": {
    "name": "ipython",
    "version": 3
   },
   "file_extension": ".py",
   "mimetype": "text/x-python",
   "name": "python",
   "nbconvert_exporter": "python",
   "pygments_lexer": "ipython3",
   "version": "3.8.5"
  }
 },
 "nbformat": 4,
 "nbformat_minor": 4
}
