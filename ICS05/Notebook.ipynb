{
 "cells": [
  {
   "cell_type": "code",
   "execution_count": 1,
   "id": "3c79bb99",
   "metadata": {},
   "outputs": [],
   "source": [
    "import random"
   ]
  },
  {
   "cell_type": "code",
   "execution_count": 2,
   "id": "0b4bd531",
   "metadata": {},
   "outputs": [],
   "source": [
    "class EllipticalCurve:\n",
    "    \"\"\"\n",
    "        elliptical curve over a finite field Fp:\n",
    "        y^2 = x^3 + ax + b (mod p)\n",
    "    \"\"\"\n",
    "    \n",
    "    def __init__(self, a, b, p):\n",
    "        if 4*a**3 + 27*b**2 == 0:\n",
    "            raise Exception(f'x^3 + {a}x + {b} is singular')\n",
    "        \n",
    "        self.a = a\n",
    "        self.b = b\n",
    "        self.p = p\n",
    "        self.generators = EllipticalCurve.get_generators(a, b, p)\n",
    "        self.G = self.generators[-1]\n",
    "    \n",
    "    @staticmethod\n",
    "    def get_generators(a, b, p):\n",
    "        \"\"\"\n",
    "            if point (h,k) lies on the y^2 = x^3 + ax + b (mod p)\n",
    "            then,\n",
    "            (h^3 + ah + b - k^2) % p = 0\n",
    "        \"\"\"\n",
    "        \n",
    "        generators = []\n",
    "        for x in range(p):\n",
    "            for y in range(p):\n",
    "                if (x**3 + a*x + b - y**2) % p == 0:\n",
    "                    generators.append((x,y))\n",
    "        \n",
    "        return generators\n",
    "    \n",
    "    def mod(self, e):\n",
    "        return e%self.p\n",
    "    \n",
    "    def invmod(self, e):\n",
    "        return pow(e, self.p-2, self.p)\n",
    "    \n",
    "    def add(self, P1, P2):\n",
    "        \"\"\"\n",
    "            for tangent:\n",
    "                u = (3x1^2 + a) * invmod(2y1) (mod p)\n",
    "            for two points:\n",
    "                u = (y2-y1) * invmod(x2-x1) (mod p)\n",
    "                \n",
    "            xr = u^2 - x1 - x2 (mod p)\n",
    "            yr = u(x1 - xr) - y1 (mod p)\n",
    "        \"\"\"\n",
    "        x1, y1 = P1\n",
    "        x2, y2 = P2\n",
    "        u = 0\n",
    "        \n",
    "        if self.mod(x2 - x1) == 0 and self.mod(y2 - y1) == 0:\n",
    "            u = self.mod((3*x1*x1 + self.a) * self.invmod(2*y1))\n",
    "        else:\n",
    "            u = self.mod((y2-y1) * self.invmod(x2-x1))\n",
    "            \n",
    "        xr = self.mod(u*u - x1 - x2)\n",
    "        yr = self.mod(u*(x1-xr) - y1)\n",
    "        return (xr, yr)\n",
    "    \n",
    "    def sub(self, P1, P2):\n",
    "        x2, y2 = P2\n",
    "        P2 = (x2, -y2)\n",
    "        return self.add(P1, P2)\n",
    "    \n",
    "    def mul(self, n, P):\n",
    "        res = P\n",
    "        while n > 1:\n",
    "            res = self.add(res, P)\n",
    "            n = n-1\n",
    "        return res"
   ]
  },
  {
   "cell_type": "code",
   "execution_count": 3,
   "id": "77138393",
   "metadata": {},
   "outputs": [],
   "source": [
    "# curve: p'1707'\n",
    "curve = EllipticalCurve(a=0, b=7, p=17)"
   ]
  },
  {
   "cell_type": "code",
   "execution_count": 4,
   "id": "62f510fb",
   "metadata": {},
   "outputs": [
    {
     "name": "stdout",
     "output_type": "stream",
     "text": [
      "possible generator points:\n",
      " [(1, 5), (1, 12), (2, 7), (2, 10), (3, 0), (5, 8), (5, 9), (6, 6), (6, 11), (8, 3), (8, 14), (10, 2), (10, 15), (12, 1), (12, 16), (15, 4), (15, 13)]\n"
     ]
    }
   ],
   "source": [
    "print('possible generator points:\\n', curve.generators)"
   ]
  },
  {
   "cell_type": "code",
   "execution_count": 5,
   "id": "58e3e3b7",
   "metadata": {},
   "outputs": [
    {
     "name": "stdout",
     "output_type": "stream",
     "text": [
      "generator point (G): (15, 13)\n"
     ]
    }
   ],
   "source": [
    "G = curve.G\n",
    "print('generator point (G):', G)"
   ]
  },
  {
   "cell_type": "code",
   "execution_count": 6,
   "id": "4ea3c61d",
   "metadata": {},
   "outputs": [
    {
     "name": "stdout",
     "output_type": "stream",
     "text": [
      "public key for A: (6, 11)\n"
     ]
    }
   ],
   "source": [
    "# private key for A\n",
    "ka = 13\n",
    "\n",
    "# pubic key for A\n",
    "# Pa = ka.G\n",
    "Pa = curve.mul(ka, G)\n",
    "print('public key for A:', Pa)"
   ]
  },
  {
   "cell_type": "code",
   "execution_count": 7,
   "id": "501bf768",
   "metadata": {},
   "outputs": [
    {
     "name": "stdout",
     "output_type": "stream",
     "text": [
      "public key for B: (15, 4)\n"
     ]
    }
   ],
   "source": [
    "# private key for B\n",
    "kb = 29\n",
    "\n",
    "# public key for B\n",
    "# Pb = kb.G\n",
    "Pb = curve.mul(kb, G)\n",
    "print('public key for B:', Pb)"
   ]
  },
  {
   "cell_type": "code",
   "execution_count": 8,
   "id": "bf81aff0",
   "metadata": {},
   "outputs": [
    {
     "name": "stdout",
     "output_type": "stream",
     "text": [
      "plain message: (3, 4)\n"
     ]
    }
   ],
   "source": [
    "# plain message (M)\n",
    "M = (3,4)\n",
    "print('plain message:',M)"
   ]
  },
  {
   "cell_type": "markdown",
   "id": "be584c2b",
   "metadata": {},
   "source": [
    "### Encrypting with Pb"
   ]
  },
  {
   "cell_type": "code",
   "execution_count": 9,
   "id": "5cca9bbb",
   "metadata": {},
   "outputs": [],
   "source": [
    "# random +ve number (r)\n",
    "r = random.randint(1,100)"
   ]
  },
  {
   "cell_type": "code",
   "execution_count": 10,
   "id": "bdd929b7",
   "metadata": {},
   "outputs": [
    {
     "name": "stdout",
     "output_type": "stream",
     "text": [
      "cipher: [(15, 4), (7, 10)]\n"
     ]
    }
   ],
   "source": [
    "# C1 = r.G\n",
    "C1 = curve.mul(r, G)\n",
    "\n",
    "# C2 = M + rPb\n",
    "rPb = curve.mul(r, Pb)\n",
    "C2 = curve.add(M, rPb)\n",
    "\n",
    "# cipher (C) = [C1, C2]\n",
    "C = [C1, C2]\n",
    "print('cipher:', C)"
   ]
  },
  {
   "cell_type": "markdown",
   "id": "f32e32e5",
   "metadata": {},
   "source": [
    "### Decrypting with kb"
   ]
  },
  {
   "cell_type": "code",
   "execution_count": 11,
   "id": "ad2851b7",
   "metadata": {},
   "outputs": [
    {
     "name": "stdout",
     "output_type": "stream",
     "text": [
      "decrypted message: (3, 4)\n"
     ]
    }
   ],
   "source": [
    "# M = C2 - kbC1\n",
    "\n",
    "kbC1 = curve.mul(kb, C1)\n",
    "M = curve.sub(C2, kbC1)\n",
    "print('decrypted message:', M)"
   ]
  }
 ],
 "metadata": {
  "kernelspec": {
   "display_name": "Python [conda env:analytics] *",
   "language": "python",
   "name": "conda-env-analytics-py"
  },
  "language_info": {
   "codemirror_mode": {
    "name": "ipython",
    "version": 3
   },
   "file_extension": ".py",
   "mimetype": "text/x-python",
   "name": "python",
   "nbconvert_exporter": "python",
   "pygments_lexer": "ipython3",
   "version": "3.8.8"
  }
 },
 "nbformat": 4,
 "nbformat_minor": 5
}
