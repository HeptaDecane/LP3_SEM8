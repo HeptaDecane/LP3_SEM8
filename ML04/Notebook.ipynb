{
 "cells": [
  {
   "cell_type": "code",
   "execution_count": 1,
   "id": "140a5c5d",
   "metadata": {},
   "outputs": [],
   "source": [
    "import math\n",
    "import numpy as np\n",
    "import pandas as pd\n",
    "import matplotlib.pyplot as plt"
   ]
  },
  {
   "cell_type": "code",
   "execution_count": 2,
   "id": "081f751f",
   "metadata": {},
   "outputs": [],
   "source": [
    "data = {\n",
    "    'points':['P1','P2','P3','P4','P5','P6','P7','P8',],\n",
    "    'x':[0.1,0.15,0.08,0.16,0.2,0.25,0.24,0.3],\n",
    "    'y':[0.6,0.71,0.9,0.85,0.3,0.5,0.1,0.2]\n",
    "}"
   ]
  },
  {
   "cell_type": "code",
   "execution_count": 3,
   "id": "75d0c26c",
   "metadata": {},
   "outputs": [
    {
     "data": {
      "text/html": [
       "<div>\n",
       "<style scoped>\n",
       "    .dataframe tbody tr th:only-of-type {\n",
       "        vertical-align: middle;\n",
       "    }\n",
       "\n",
       "    .dataframe tbody tr th {\n",
       "        vertical-align: top;\n",
       "    }\n",
       "\n",
       "    .dataframe thead th {\n",
       "        text-align: right;\n",
       "    }\n",
       "</style>\n",
       "<table border=\"1\" class=\"dataframe\">\n",
       "  <thead>\n",
       "    <tr style=\"text-align: right;\">\n",
       "      <th></th>\n",
       "      <th>points</th>\n",
       "      <th>x</th>\n",
       "      <th>y</th>\n",
       "    </tr>\n",
       "  </thead>\n",
       "  <tbody>\n",
       "    <tr>\n",
       "      <th>0</th>\n",
       "      <td>P1</td>\n",
       "      <td>0.10</td>\n",
       "      <td>0.60</td>\n",
       "    </tr>\n",
       "    <tr>\n",
       "      <th>1</th>\n",
       "      <td>P2</td>\n",
       "      <td>0.15</td>\n",
       "      <td>0.71</td>\n",
       "    </tr>\n",
       "    <tr>\n",
       "      <th>2</th>\n",
       "      <td>P3</td>\n",
       "      <td>0.08</td>\n",
       "      <td>0.90</td>\n",
       "    </tr>\n",
       "    <tr>\n",
       "      <th>3</th>\n",
       "      <td>P4</td>\n",
       "      <td>0.16</td>\n",
       "      <td>0.85</td>\n",
       "    </tr>\n",
       "    <tr>\n",
       "      <th>4</th>\n",
       "      <td>P5</td>\n",
       "      <td>0.20</td>\n",
       "      <td>0.30</td>\n",
       "    </tr>\n",
       "    <tr>\n",
       "      <th>5</th>\n",
       "      <td>P6</td>\n",
       "      <td>0.25</td>\n",
       "      <td>0.50</td>\n",
       "    </tr>\n",
       "    <tr>\n",
       "      <th>6</th>\n",
       "      <td>P7</td>\n",
       "      <td>0.24</td>\n",
       "      <td>0.10</td>\n",
       "    </tr>\n",
       "    <tr>\n",
       "      <th>7</th>\n",
       "      <td>P8</td>\n",
       "      <td>0.30</td>\n",
       "      <td>0.20</td>\n",
       "    </tr>\n",
       "  </tbody>\n",
       "</table>\n",
       "</div>"
      ],
      "text/plain": [
       "  points     x     y\n",
       "0     P1  0.10  0.60\n",
       "1     P2  0.15  0.71\n",
       "2     P3  0.08  0.90\n",
       "3     P4  0.16  0.85\n",
       "4     P5  0.20  0.30\n",
       "5     P6  0.25  0.50\n",
       "6     P7  0.24  0.10\n",
       "7     P8  0.30  0.20"
      ]
     },
     "execution_count": 3,
     "metadata": {},
     "output_type": "execute_result"
    }
   ],
   "source": [
    "df = pd.DataFrame(data)\n",
    "df"
   ]
  },
  {
   "cell_type": "code",
   "execution_count": 4,
   "id": "de903644",
   "metadata": {},
   "outputs": [
    {
     "data": {
      "text/plain": [
       "<matplotlib.collections.PathCollection at 0x7f33dd6bbfa0>"
      ]
     },
     "execution_count": 4,
     "metadata": {},
     "output_type": "execute_result"
    },
    {
     "data": {
      "image/png": "[encoded data removed]",
      "text/plain": [
       "<Figure size 720x720 with 1 Axes>"
      ]
     },
     "metadata": {
      "needs_background": "light"
     },
     "output_type": "display_data"
    }
   ],
   "source": [
    "fig = plt.figure(figsize=(10,10))\n",
    "ax = plt.axes()\n",
    "ax.scatter(x=df['x'], y=df['y'])"
   ]
  },
  {
   "cell_type": "code",
   "execution_count": 5,
   "id": "7b119517",
   "metadata": {},
   "outputs": [
    {
     "data": {
      "text/html": [
       "<div>\n",
       "<style scoped>\n",
       "    .dataframe tbody tr th:only-of-type {\n",
       "        vertical-align: middle;\n",
       "    }\n",
       "\n",
       "    .dataframe tbody tr th {\n",
       "        vertical-align: top;\n",
       "    }\n",
       "\n",
       "    .dataframe thead th {\n",
       "        text-align: right;\n",
       "    }\n",
       "</style>\n",
       "<table border=\"1\" class=\"dataframe\">\n",
       "  <thead>\n",
       "    <tr style=\"text-align: right;\">\n",
       "      <th></th>\n",
       "      <th>x</th>\n",
       "      <th>y</th>\n",
       "    </tr>\n",
       "  </thead>\n",
       "  <tbody>\n",
       "    <tr>\n",
       "      <th>0</th>\n",
       "      <td>0.10</td>\n",
       "      <td>0.60</td>\n",
       "    </tr>\n",
       "    <tr>\n",
       "      <th>1</th>\n",
       "      <td>0.15</td>\n",
       "      <td>0.71</td>\n",
       "    </tr>\n",
       "    <tr>\n",
       "      <th>2</th>\n",
       "      <td>0.08</td>\n",
       "      <td>0.90</td>\n",
       "    </tr>\n",
       "    <tr>\n",
       "      <th>3</th>\n",
       "      <td>0.16</td>\n",
       "      <td>0.85</td>\n",
       "    </tr>\n",
       "    <tr>\n",
       "      <th>4</th>\n",
       "      <td>0.20</td>\n",
       "      <td>0.30</td>\n",
       "    </tr>\n",
       "    <tr>\n",
       "      <th>5</th>\n",
       "      <td>0.25</td>\n",
       "      <td>0.50</td>\n",
       "    </tr>\n",
       "    <tr>\n",
       "      <th>6</th>\n",
       "      <td>0.24</td>\n",
       "      <td>0.10</td>\n",
       "    </tr>\n",
       "    <tr>\n",
       "      <th>7</th>\n",
       "      <td>0.30</td>\n",
       "      <td>0.20</td>\n",
       "    </tr>\n",
       "  </tbody>\n",
       "</table>\n",
       "</div>"
      ],
      "text/plain": [
       "      x     y\n",
       "0  0.10  0.60\n",
       "1  0.15  0.71\n",
       "2  0.08  0.90\n",
       "3  0.16  0.85\n",
       "4  0.20  0.30\n",
       "5  0.25  0.50\n",
       "6  0.24  0.10\n",
       "7  0.30  0.20"
      ]
     },
     "execution_count": 5,
     "metadata": {},
     "output_type": "execute_result"
    }
   ],
   "source": [
    "X = df[['x','y']]\n",
    "X"
   ]
  },
  {
   "cell_type": "code",
   "execution_count": 6,
   "id": "8b03e9f1",
   "metadata": {},
   "outputs": [],
   "source": [
    "x = np.array(X)"
   ]
  },
  {
   "cell_type": "code",
   "execution_count": 7,
   "id": "72dc878d",
   "metadata": {},
   "outputs": [],
   "source": [
    "class KMeans:\n",
    "    def __init__(self, x, k=2):\n",
    "        self.x = x\n",
    "        self.k = k\n",
    "        \n",
    "        self.num_samples, self.num_features = np.shape(self.x)\n",
    "        \n",
    "        self.centroids = [self.x[0], self.x[-1]]\n",
    "        self.clusters = [[] for i in range(self.k)]\n",
    "    \n",
    "    @staticmethod\n",
    "    def euclidean_distance(p1, p2):\n",
    "        sq_diff = 0\n",
    "        for x1,x2 in zip(p1,p2):\n",
    "            sq_diff += (x1-x2)**2\n",
    "        return math.sqrt(sq_diff)\n",
    "    \n",
    "    def calculate_centroids(self):\n",
    "        centroids = []\n",
    "        for cluster in self.clusters:\n",
    "            points = self.x[cluster]\n",
    "            centroids.append(np.mean(points, axis=0))\n",
    "            \n",
    "        return centroids\n",
    "    \n",
    "    def calculate_error(self, centroids):\n",
    "        error = 0\n",
    "        for p1,p2 in zip(self.centroids, centroids):\n",
    "            error += self.euclidean_distance(p1,p2)\n",
    "        \n",
    "        return error\n",
    "            \n",
    "    def fit(self):\n",
    "        error = math.inf\n",
    "        \n",
    "        while error:\n",
    "            self.clusters = [[] for i in range(self.k)]\n",
    "            \n",
    "            for i in range(len(self.x)):\n",
    "                distances = [KMeans.euclidean_distance(ci, self.x[i]) for ci in self.centroids]\n",
    "                c_idx = np.argmin(distances)\n",
    "                self.clusters[c_idx].append(i)\n",
    "                \n",
    "            new_centroids = self.calculate_centroids()\n",
    "            error = self.calculate_error(new_centroids)\n",
    "            print(self.centroids)\n",
    "            print(new_centroids)\n",
    "            print(error, \"\\n\")\n",
    "            self.centroids = new_centroids"
   ]
  },
  {
   "cell_type": "code",
   "execution_count": 8,
   "id": "106e1011",
   "metadata": {},
   "outputs": [
    {
     "name": "stdout",
     "output_type": "stream",
     "text": [
      "[array([0.1, 0.6]), array([0.3, 0.2])]\n",
      "[array([0.148, 0.712]), array([0.24666667, 0.2       ])]\n",
      "0.17518570302715583 \n",
      "\n",
      "[array([0.148, 0.712]), array([0.24666667, 0.2       ])]\n",
      "[array([0.148, 0.712]), array([0.24666667, 0.2       ])]\n",
      "0.0 \n",
      "\n"
     ]
    }
   ],
   "source": [
    "kmeans = KMeans(x)\n",
    "kmeans.fit()"
   ]
  },
  {
   "cell_type": "code",
   "execution_count": 9,
   "id": "0b65bfee",
   "metadata": {},
   "outputs": [
    {
     "data": {
      "text/plain": [
       "array([[0.148     , 0.712     ],\n",
       "       [0.24666667, 0.2       ]])"
      ]
     },
     "execution_count": 9,
     "metadata": {},
     "output_type": "execute_result"
    }
   ],
   "source": [
    "centroids = np.array(kmeans.centroids)\n",
    "centroids"
   ]
  },
  {
   "cell_type": "code",
   "execution_count": 10,
   "id": "33c3b1e3",
   "metadata": {},
   "outputs": [
    {
     "data": {
      "text/plain": [
       "[[0, 1, 2, 3, 5], [4, 6, 7]]"
      ]
     },
     "execution_count": 10,
     "metadata": {},
     "output_type": "execute_result"
    }
   ],
   "source": [
    "kmeans.clusters"
   ]
  },
  {
   "cell_type": "code",
   "execution_count": 11,
   "id": "5b381a3b",
   "metadata": {},
   "outputs": [
    {
     "name": "stdout",
     "output_type": "stream",
     "text": [
      "[[0.1  0.6 ]\n",
      " [0.15 0.71]\n",
      " [0.08 0.9 ]\n",
      " [0.16 0.85]\n",
      " [0.25 0.5 ]] \n",
      "\n",
      "[[0.2  0.3 ]\n",
      " [0.24 0.1 ]\n",
      " [0.3  0.2 ]] \n",
      "\n"
     ]
    }
   ],
   "source": [
    "for cluster in kmeans.clusters:\n",
    "    print(x[cluster], \"\\n\")"
   ]
  },
  {
   "cell_type": "code",
   "execution_count": 12,
   "id": "97efc2ff",
   "metadata": {},
   "outputs": [
    {
     "data": {
      "text/plain": [
       "<matplotlib.collections.PathCollection at 0x7f33d5639b20>"
      ]
     },
     "execution_count": 12,
     "metadata": {},
     "output_type": "execute_result"
    },
    {
     "data": {
      "image/png": "[encoded data removed]",
      "text/plain": [
       "<Figure size 720x720 with 1 Axes>"
      ]
     },
     "metadata": {
      "needs_background": "light"
     },
     "output_type": "display_data"
    }
   ],
   "source": [
    "fig = plt.figure(figsize=(10,10))\n",
    "ax = plt.axes()\n",
    "\n",
    "ax.scatter(x=centroids[:,0], y=centroids[:,1], marker='*', s=100, c='black')\n",
    "\n",
    "cluster = X.iloc[kmeans.clusters[0]]\n",
    "ax.scatter(x=cluster['x'], y=cluster['y'], c='red')\n",
    "\n",
    "cluster = X.iloc[kmeans.clusters[1]]\n",
    "ax.scatter(x=cluster['x'], y=cluster['y'], c='green')"
   ]
  }
 ],
 "metadata": {
  "kernelspec": {
   "display_name": "Python [conda env:analytics] *",
   "language": "python",
   "name": "conda-env-analytics-py"
  },
  "language_info": {
   "codemirror_mode": {
    "name": "ipython",
    "version": 3
   },
   "file_extension": ".py",
   "mimetype": "text/x-python",
   "name": "python",
   "nbconvert_exporter": "python",
   "pygments_lexer": "ipython3",
   "version": "3.8.8"
  }
 },
 "nbformat": 4,
 "nbformat_minor": 5
}
