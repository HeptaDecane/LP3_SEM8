{
 "cells": [
  {
   "cell_type": "code",
   "execution_count": 1,
   "id": "0cec64b3",
   "metadata": {},
   "outputs": [],
   "source": [
    "import numpy as np\n",
    "import pandas as pd\n",
    "import matplotlib.pyplot as plt"
   ]
  },
  {
   "cell_type": "code",
   "execution_count": 2,
   "id": "5c65b83d",
   "metadata": {},
   "outputs": [
    {
     "data": {
      "text/html": [
       "<div>\n",
       "<style scoped>\n",
       "    .dataframe tbody tr th:only-of-type {\n",
       "        vertical-align: middle;\n",
       "    }\n",
       "\n",
       "    .dataframe tbody tr th {\n",
       "        vertical-align: top;\n",
       "    }\n",
       "\n",
       "    .dataframe thead th {\n",
       "        text-align: right;\n",
       "    }\n",
       "</style>\n",
       "<table border=\"1\" class=\"dataframe\">\n",
       "  <thead>\n",
       "    <tr style=\"text-align: right;\">\n",
       "      <th></th>\n",
       "      <th>Hours</th>\n",
       "      <th>Risk Score</th>\n",
       "    </tr>\n",
       "  </thead>\n",
       "  <tbody>\n",
       "    <tr>\n",
       "      <th>0</th>\n",
       "      <td>10</td>\n",
       "      <td>95</td>\n",
       "    </tr>\n",
       "    <tr>\n",
       "      <th>1</th>\n",
       "      <td>9</td>\n",
       "      <td>80</td>\n",
       "    </tr>\n",
       "    <tr>\n",
       "      <th>2</th>\n",
       "      <td>2</td>\n",
       "      <td>10</td>\n",
       "    </tr>\n",
       "    <tr>\n",
       "      <th>3</th>\n",
       "      <td>15</td>\n",
       "      <td>50</td>\n",
       "    </tr>\n",
       "    <tr>\n",
       "      <th>4</th>\n",
       "      <td>10</td>\n",
       "      <td>45</td>\n",
       "    </tr>\n",
       "    <tr>\n",
       "      <th>5</th>\n",
       "      <td>16</td>\n",
       "      <td>98</td>\n",
       "    </tr>\n",
       "    <tr>\n",
       "      <th>6</th>\n",
       "      <td>11</td>\n",
       "      <td>38</td>\n",
       "    </tr>\n",
       "    <tr>\n",
       "      <th>7</th>\n",
       "      <td>16</td>\n",
       "      <td>93</td>\n",
       "    </tr>\n",
       "  </tbody>\n",
       "</table>\n",
       "</div>"
      ],
      "text/plain": [
       "   Hours  Risk Score\n",
       "0     10          95\n",
       "1      9          80\n",
       "2      2          10\n",
       "3     15          50\n",
       "4     10          45\n",
       "5     16          98\n",
       "6     11          38\n",
       "7     16          93"
      ]
     },
     "execution_count": 2,
     "metadata": {},
     "output_type": "execute_result"
    }
   ],
   "source": [
    "df = pd.read_csv('data.csv')\n",
    "df"
   ]
  },
  {
   "cell_type": "code",
   "execution_count": 3,
   "id": "82ef33a9",
   "metadata": {},
   "outputs": [
    {
     "data": {
      "text/html": [
       "<div>\n",
       "<style scoped>\n",
       "    .dataframe tbody tr th:only-of-type {\n",
       "        vertical-align: middle;\n",
       "    }\n",
       "\n",
       "    .dataframe tbody tr th {\n",
       "        vertical-align: top;\n",
       "    }\n",
       "\n",
       "    .dataframe thead th {\n",
       "        text-align: right;\n",
       "    }\n",
       "</style>\n",
       "<table border=\"1\" class=\"dataframe\">\n",
       "  <thead>\n",
       "    <tr style=\"text-align: right;\">\n",
       "      <th></th>\n",
       "      <th>Hours</th>\n",
       "      <th>Risk Score</th>\n",
       "    </tr>\n",
       "  </thead>\n",
       "  <tbody>\n",
       "    <tr>\n",
       "      <th>count</th>\n",
       "      <td>8.000000</td>\n",
       "      <td>8.000000</td>\n",
       "    </tr>\n",
       "    <tr>\n",
       "      <th>mean</th>\n",
       "      <td>11.125000</td>\n",
       "      <td>63.625000</td>\n",
       "    </tr>\n",
       "    <tr>\n",
       "      <th>std</th>\n",
       "      <td>4.673252</td>\n",
       "      <td>32.429869</td>\n",
       "    </tr>\n",
       "    <tr>\n",
       "      <th>min</th>\n",
       "      <td>2.000000</td>\n",
       "      <td>10.000000</td>\n",
       "    </tr>\n",
       "    <tr>\n",
       "      <th>25%</th>\n",
       "      <td>9.750000</td>\n",
       "      <td>43.250000</td>\n",
       "    </tr>\n",
       "    <tr>\n",
       "      <th>50%</th>\n",
       "      <td>10.500000</td>\n",
       "      <td>65.000000</td>\n",
       "    </tr>\n",
       "    <tr>\n",
       "      <th>75%</th>\n",
       "      <td>15.250000</td>\n",
       "      <td>93.500000</td>\n",
       "    </tr>\n",
       "    <tr>\n",
       "      <th>max</th>\n",
       "      <td>16.000000</td>\n",
       "      <td>98.000000</td>\n",
       "    </tr>\n",
       "  </tbody>\n",
       "</table>\n",
       "</div>"
      ],
      "text/plain": [
       "           Hours  Risk Score\n",
       "count   8.000000    8.000000\n",
       "mean   11.125000   63.625000\n",
       "std     4.673252   32.429869\n",
       "min     2.000000   10.000000\n",
       "25%     9.750000   43.250000\n",
       "50%    10.500000   65.000000\n",
       "75%    15.250000   93.500000\n",
       "max    16.000000   98.000000"
      ]
     },
     "execution_count": 3,
     "metadata": {},
     "output_type": "execute_result"
    }
   ],
   "source": [
    "df.describe()"
   ]
  },
  {
   "cell_type": "code",
   "execution_count": 4,
   "id": "120ac6dc",
   "metadata": {},
   "outputs": [],
   "source": [
    "x = np.array(df['Hours'])\n",
    "y = np.array(df['Risk Score'])"
   ]
  },
  {
   "cell_type": "code",
   "execution_count": 5,
   "id": "52e97a0d",
   "metadata": {},
   "outputs": [
    {
     "data": {
      "text/plain": [
       "Text(0, 0.5, 'risk score')"
      ]
     },
     "execution_count": 5,
     "metadata": {},
     "output_type": "execute_result"
    },
    {
     "data": {
      "image/png": "[encoded data removed]",
      "text/plain": [
       "<Figure size 1296x648 with 1 Axes>"
      ]
     },
     "metadata": {
      "needs_background": "light"
     },
     "output_type": "display_data"
    }
   ],
   "source": [
    "fig = plt.figure(figsize=(18,9))\n",
    "ax = plt.axes()\n",
    "ax.scatter(x,y)\n",
    "\n",
    "ax.set_xlabel('no. of hours spent driving', fontsize=14)\n",
    "ax.set_ylabel('risk score', fontsize=14)"
   ]
  },
  {
   "cell_type": "markdown",
   "id": "32d714db",
   "metadata": {},
   "source": [
    "### Regression Line:\n",
    "\n",
    "$$y'=b_0+b_1x$$\n",
    "where,\n",
    "b1, b0 are the slope and intercept respectively\n",
    "\n",
    "$$slope = \\frac{S_{xy}}{S_{xx}}$$\n",
    "$$b_1=\\frac{\\sum(x-\\bar{x})(y-\\bar{y})}{\\sum(x-\\bar{x})^2}$$\n",
    "and,\n",
    "\n",
    "$$intercept = \\bar{y} – slope.\\bar{x}$$\n",
    "$$b_0 = \\bar{y} - b1.\\bar{x}$$\n",
    "\n",
    "cost function:\n",
    "$$MSE=J=\\frac{1}{n}\\sum_{i=1}^n(y_i-y')^2$$"
   ]
  },
  {
   "cell_type": "code",
   "execution_count": 6,
   "id": "71967433",
   "metadata": {},
   "outputs": [],
   "source": [
    "x_mean = np.mean(x)\n",
    "y_mean = np.mean(y)"
   ]
  },
  {
   "cell_type": "code",
   "execution_count": 7,
   "id": "75b855d6",
   "metadata": {},
   "outputs": [],
   "source": [
    "sxy = 0\n",
    "sxx = 0\n",
    "syy = 0\n",
    "for i in range(len(df)):\n",
    "    sxy += (x[i]-x_mean)*(y[i]-y_mean)\n",
    "    sxx += (x[i]-x_mean)*(x[i]-x_mean)\n",
    "    syy += (y[i]-y_mean)*(y[i]-y_mean)"
   ]
  },
  {
   "cell_type": "code",
   "execution_count": 8,
   "id": "f7a30efb",
   "metadata": {},
   "outputs": [],
   "source": [
    "b1 = sxy/sxx\n",
    "b0 = y_mean - b1*x_mean\n",
    "\n",
    "def predict(x):\n",
    "    return b0 + b1*x"
   ]
  },
  {
   "cell_type": "code",
   "execution_count": 9,
   "id": "22a9db32",
   "metadata": {},
   "outputs": [
    {
     "name": "stdout",
     "output_type": "stream",
     "text": [
      "regression coefficients:\n",
      "intercept (b0): 12.584627964022893\n",
      "slope (b1): 4.58789860997547\n"
     ]
    }
   ],
   "source": [
    "print(\"regression coefficients:\")\n",
    "print('intercept (b0):', b0)\n",
    "print('slope (b1):', b1)"
   ]
  },
  {
   "cell_type": "code",
   "execution_count": 10,
   "id": "d870bfcc",
   "metadata": {},
   "outputs": [],
   "source": [
    "y_pred = [predict(xi) for xi in x]"
   ]
  },
  {
   "cell_type": "markdown",
   "id": "24290c1b",
   "metadata": {},
   "source": [
    "### R-Squared value:\n",
    "$$R^2=\\frac{\\sum(y_{pred}-\\bar{y})^2}{\\sum(y-\\bar{y})^2}$$"
   ]
  },
  {
   "cell_type": "code",
   "execution_count": 11,
   "id": "9e0fa51f",
   "metadata": {},
   "outputs": [
    {
     "data": {
      "text/plain": [
       "0.4370948145101005"
      ]
     },
     "execution_count": 11,
     "metadata": {},
     "output_type": "execute_result"
    }
   ],
   "source": [
    "err = 0\n",
    "for i in range(len(df)):\n",
    "    err += (y_pred[i]-y_mean)*(y_pred[i]-y_mean)\n",
    "    \n",
    "r2_score = err/syy\n",
    "r2_score"
   ]
  },
  {
   "cell_type": "code",
   "execution_count": 12,
   "id": "2243f1c6",
   "metadata": {},
   "outputs": [
    {
     "data": {
      "text/plain": [
       "Text(0, 0.5, 'risk score')"
      ]
     },
     "execution_count": 12,
     "metadata": {},
     "output_type": "execute_result"
    },
    {
     "data": {
      "image/png": "[encoded data removed]",
      "text/plain": [
       "<Figure size 1296x648 with 1 Axes>"
      ]
     },
     "metadata": {
      "needs_background": "light"
     },
     "output_type": "display_data"
    }
   ],
   "source": [
    "fig = plt.figure(figsize=(18,9))\n",
    "ax = plt.axes()\n",
    "ax.scatter(x,y)\n",
    "ax.plot(x,y_pred, color='green')\n",
    "\n",
    "ax.set_xlabel('no. of hours spent driving', fontsize=14)\n",
    "ax.set_ylabel('risk score', fontsize=14)"
   ]
  }
 ],
 "metadata": {
  "kernelspec": {
   "display_name": "Python [conda env:analytics] *",
   "language": "python",
   "name": "conda-env-analytics-py"
  },
  "language_info": {
   "codemirror_mode": {
    "name": "ipython",
    "version": 3
   },
   "file_extension": ".py",
   "mimetype": "text/x-python",
   "name": "python",
   "nbconvert_exporter": "python",
   "pygments_lexer": "ipython3",
   "version": "3.8.8"
  }
 },
 "nbformat": 4,
 "nbformat_minor": 5
}
